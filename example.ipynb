# example.ipynb
import reservoirpy as rpy
import numpy as np
import matplotlib.pyplot as plt

print("ReservoirPy version:", rpy.__version__)

# 创建一个简单的 ESN 示例
from reservoirpy.nodes import ESN
from reservoirpy.observables import rmse

# 生成示例数据
x = np.linspace(0, 2*np.pi, 100)
y = np.sin(x)

# 定义一个简单 ESN
esn = ESN(n_reservoir=50, spectral_radius=0.9)
y_pred = esn.fit(x.reshape(-1, 1), y.reshape(-1, 1)).run(x.reshape(-1, 1))

# 绘制结果
plt.plot(x, y, label='true')
plt.plot(x, y_pred, label='pred')
plt.legend()
plt.show()
